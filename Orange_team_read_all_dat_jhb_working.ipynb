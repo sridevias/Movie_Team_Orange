{
 "cells": [
  {
   "cell_type": "code",
   "execution_count": 4,
   "metadata": {
    "collapsed": true
   },
   "outputs": [],
   "source": [
    "import os\n",
    "import json\n",
    "from pprint import pprint\n",
    "import matplotlib.pyplot as plt\n",
    "import seaborn as sns\n",
    "import pandas as pd\n",
    "from operator import is_not\n",
    "from functools import partial\n",
    "import math\n",
    "import re\n",
    "#load our cutomized data load module\n",
    "import loaddata"
   ]
  },
  {
   "cell_type": "code",
   "execution_count": 8,
   "metadata": {
    "collapsed": false,
    "scrolled": true
   },
   "outputs": [
    {
     "name": "stdout",
     "output_type": "stream",
     "text": [
      "Parsed 3728 movies from 3728 files\n",
      "Parsed 4765 metacritic files from 4767 files\n"
     ]
    },
    {
     "data": {
      "text/plain": [
       "[u'alt_title',\n",
       " u'director_x',\n",
       " u'domestic_gross',\n",
       " u'mojo_slug',\n",
       " u'opening_per_theater',\n",
       " u'opening_weekend_take',\n",
       " u'production_budget',\n",
       " u'release_date_limited',\n",
       " u'release_date_wide',\n",
       " u'title_x',\n",
       " u'widest_release',\n",
       " u'worldwide_gross',\n",
       " u'year_x',\n",
       " 'title_clean',\n",
       " u'complete',\n",
       " u'director_y',\n",
       " u'genre',\n",
       " u'metacritic_page',\n",
       " u'metascore',\n",
       " u'num_critic_reviews',\n",
       " u'num_user_ratings',\n",
       " u'num_user_reviews',\n",
       " u'rating',\n",
       " u'release_date',\n",
       " u'runtime_minutes',\n",
       " u'studio',\n",
       " u'title_y',\n",
       " u'unable to retrieve',\n",
       " u'user_score',\n",
       " u'year_y']"
      ]
     },
     "execution_count": 8,
     "metadata": {},
     "output_type": "execute_result"
    }
   ],
   "source": [
    "#this code read files under two folder and merge them together into one data frame\n",
    "#1 Read mojo files\n",
    "mojo_data = loaddata.load_mojo_data()\n",
    "mojo_df = pd.DataFrame(mojo_data)\n",
    "mojo_df['title_clean'] = mojo_df['title'].str.replace('[^\\w]','').str.lower()\n",
    "#2 Read meta files\n",
    "meta_data = loaddata.load_metacritic_data()\n",
    "meta_df = pd.DataFrame(meta_data)\n",
    "meta_df['title_clean'] = meta_df['title'].str.replace('[^\\w]','').str.lower()\n",
    "#3 Merge two file together\n",
    "df_merged = pd.merge(mojo_df, \n",
    "                     meta_df,\n",
    "                     on='title_clean',\n",
    "                     how = 'left')\n",
    "# check the final data frame\n",
    "list(df_merged.columns.values)\n",
    "df_merged"
   ]
  },
  {
   "cell_type": "code",
   "execution_count": 6,
   "metadata": {
    "collapsed": false
   },
   "outputs": [
    {
     "name": "stderr",
     "output_type": "stream",
     "text": [
      "/Users/odz197/anaconda/envs/py27/lib/python2.7/site-packages/numpy/lib/function_base.py:3823: RuntimeWarning: Invalid value encountered in percentile\n",
      "  RuntimeWarning)\n"
     ]
    },
    {
     "data": {
      "text/html": [
       "<div>\n",
       "<table border=\"1\" class=\"dataframe\">\n",
       "  <thead>\n",
       "    <tr style=\"text-align: right;\">\n",
       "      <th></th>\n",
       "      <th>domestic_gross</th>\n",
       "      <th>opening_per_theater</th>\n",
       "      <th>opening_weekend_take</th>\n",
       "      <th>production_budget</th>\n",
       "      <th>widest_release</th>\n",
       "      <th>worldwide_gross</th>\n",
       "      <th>year_x</th>\n",
       "      <th>metascore</th>\n",
       "      <th>num_user_ratings</th>\n",
       "      <th>runtime_minutes</th>\n",
       "      <th>international_gross</th>\n",
       "      <th>domestic_margin</th>\n",
       "      <th>worldwide_margin</th>\n",
       "    </tr>\n",
       "  </thead>\n",
       "  <tbody>\n",
       "    <tr>\n",
       "      <th>count</th>\n",
       "      <td>3.680000e+03</td>\n",
       "      <td>3573.000000</td>\n",
       "      <td>3.573000e+03</td>\n",
       "      <td>1.600000e+03</td>\n",
       "      <td>3601.000000</td>\n",
       "      <td>2.840000e+03</td>\n",
       "      <td>3748.000000</td>\n",
       "      <td>3430.000000</td>\n",
       "      <td>3365.000000</td>\n",
       "      <td>3457.000000</td>\n",
       "      <td>2.832000e+03</td>\n",
       "      <td>1597.000000</td>\n",
       "      <td>1475.000000</td>\n",
       "    </tr>\n",
       "    <tr>\n",
       "      <th>mean</th>\n",
       "      <td>3.582301e+07</td>\n",
       "      <td>7761.438007</td>\n",
       "      <td>8.901586e+06</td>\n",
       "      <td>4.588745e+07</td>\n",
       "      <td>1357.743682</td>\n",
       "      <td>9.104239e+07</td>\n",
       "      <td>2004.704376</td>\n",
       "      <td>57.611079</td>\n",
       "      <td>121.378900</td>\n",
       "      <td>107.365346</td>\n",
       "      <td>4.864151e+07</td>\n",
       "      <td>9.502585</td>\n",
       "      <td>17.289373</td>\n",
       "    </tr>\n",
       "    <tr>\n",
       "      <th>std</th>\n",
       "      <td>5.647635e+07</td>\n",
       "      <td>8227.702429</td>\n",
       "      <td>1.400754e+07</td>\n",
       "      <td>4.056832e+07</td>\n",
       "      <td>1292.664998</td>\n",
       "      <td>1.486362e+08</td>\n",
       "      <td>9.149012</td>\n",
       "      <td>18.134274</td>\n",
       "      <td>217.995613</td>\n",
       "      <td>19.364151</td>\n",
       "      <td>9.374610e+07</td>\n",
       "      <td>200.976279</td>\n",
       "      <td>359.391403</td>\n",
       "    </tr>\n",
       "    <tr>\n",
       "      <th>min</th>\n",
       "      <td>7.200000e+01</td>\n",
       "      <td>72.000000</td>\n",
       "      <td>7.200000e+01</td>\n",
       "      <td>2.200000e+02</td>\n",
       "      <td>1.000000</td>\n",
       "      <td>7.200000e+01</td>\n",
       "      <td>1933.000000</td>\n",
       "      <td>1.000000</td>\n",
       "      <td>4.000000</td>\n",
       "      <td>48.000000</td>\n",
       "      <td>0.000000e+00</td>\n",
       "      <td>-0.999926</td>\n",
       "      <td>-0.998543</td>\n",
       "    </tr>\n",
       "    <tr>\n",
       "      <th>25%</th>\n",
       "      <td>NaN</td>\n",
       "      <td>NaN</td>\n",
       "      <td>NaN</td>\n",
       "      <td>NaN</td>\n",
       "      <td>NaN</td>\n",
       "      <td>NaN</td>\n",
       "      <td>NaN</td>\n",
       "      <td>NaN</td>\n",
       "      <td>NaN</td>\n",
       "      <td>NaN</td>\n",
       "      <td>NaN</td>\n",
       "      <td>NaN</td>\n",
       "      <td>NaN</td>\n",
       "    </tr>\n",
       "    <tr>\n",
       "      <th>50%</th>\n",
       "      <td>NaN</td>\n",
       "      <td>NaN</td>\n",
       "      <td>NaN</td>\n",
       "      <td>NaN</td>\n",
       "      <td>NaN</td>\n",
       "      <td>NaN</td>\n",
       "      <td>NaN</td>\n",
       "      <td>NaN</td>\n",
       "      <td>NaN</td>\n",
       "      <td>NaN</td>\n",
       "      <td>NaN</td>\n",
       "      <td>NaN</td>\n",
       "      <td>NaN</td>\n",
       "    </tr>\n",
       "    <tr>\n",
       "      <th>75%</th>\n",
       "      <td>NaN</td>\n",
       "      <td>NaN</td>\n",
       "      <td>NaN</td>\n",
       "      <td>NaN</td>\n",
       "      <td>NaN</td>\n",
       "      <td>NaN</td>\n",
       "      <td>NaN</td>\n",
       "      <td>NaN</td>\n",
       "      <td>NaN</td>\n",
       "      <td>NaN</td>\n",
       "      <td>NaN</td>\n",
       "      <td>NaN</td>\n",
       "      <td>NaN</td>\n",
       "    </tr>\n",
       "    <tr>\n",
       "      <th>max</th>\n",
       "      <td>7.605076e+08</td>\n",
       "      <td>204230.000000</td>\n",
       "      <td>1.741446e+08</td>\n",
       "      <td>2.150000e+08</td>\n",
       "      <td>4468.000000</td>\n",
       "      <td>2.787965e+09</td>\n",
       "      <td>2015.000000</td>\n",
       "      <td>100.000000</td>\n",
       "      <td>4002.000000</td>\n",
       "      <td>325.000000</td>\n",
       "      <td>2.027457e+09</td>\n",
       "      <td>7193.587333</td>\n",
       "      <td>12889.386667</td>\n",
       "    </tr>\n",
       "  </tbody>\n",
       "</table>\n",
       "</div>"
      ],
      "text/plain": [
       "       domestic_gross  opening_per_theater  opening_weekend_take  \\\n",
       "count    3.680000e+03          3573.000000          3.573000e+03   \n",
       "mean     3.582301e+07          7761.438007          8.901586e+06   \n",
       "std      5.647635e+07          8227.702429          1.400754e+07   \n",
       "min      7.200000e+01            72.000000          7.200000e+01   \n",
       "25%               NaN                  NaN                   NaN   \n",
       "50%               NaN                  NaN                   NaN   \n",
       "75%               NaN                  NaN                   NaN   \n",
       "max      7.605076e+08        204230.000000          1.741446e+08   \n",
       "\n",
       "       production_budget  widest_release  worldwide_gross       year_x  \\\n",
       "count       1.600000e+03     3601.000000     2.840000e+03  3748.000000   \n",
       "mean        4.588745e+07     1357.743682     9.104239e+07  2004.704376   \n",
       "std         4.056832e+07     1292.664998     1.486362e+08     9.149012   \n",
       "min         2.200000e+02        1.000000     7.200000e+01  1933.000000   \n",
       "25%                  NaN             NaN              NaN          NaN   \n",
       "50%                  NaN             NaN              NaN          NaN   \n",
       "75%                  NaN             NaN              NaN          NaN   \n",
       "max         2.150000e+08     4468.000000     2.787965e+09  2015.000000   \n",
       "\n",
       "         metascore  num_user_ratings  runtime_minutes  international_gross  \\\n",
       "count  3430.000000       3365.000000      3457.000000         2.832000e+03   \n",
       "mean     57.611079        121.378900       107.365346         4.864151e+07   \n",
       "std      18.134274        217.995613        19.364151         9.374610e+07   \n",
       "min       1.000000          4.000000        48.000000         0.000000e+00   \n",
       "25%            NaN               NaN              NaN                  NaN   \n",
       "50%            NaN               NaN              NaN                  NaN   \n",
       "75%            NaN               NaN              NaN                  NaN   \n",
       "max     100.000000       4002.000000       325.000000         2.027457e+09   \n",
       "\n",
       "       domestic_margin  worldwide_margin  \n",
       "count      1597.000000       1475.000000  \n",
       "mean          9.502585         17.289373  \n",
       "std         200.976279        359.391403  \n",
       "min          -0.999926         -0.998543  \n",
       "25%                NaN               NaN  \n",
       "50%                NaN               NaN  \n",
       "75%                NaN               NaN  \n",
       "max        7193.587333      12889.386667  "
      ]
     },
     "execution_count": 6,
     "metadata": {},
     "output_type": "execute_result"
    }
   ],
   "source": [
    "df_merged['international_gross'] = df_merged.worldwide_gross - df_merged.domestic_gross\n",
    "df_merged['domestic_margin'] = (df_merged.domestic_gross - df_merged.production_budget) / df_merged.production_budget\n",
    "df_merged['worldwide_margin'] = (df_merged.worldwide_gross - df_merged.production_budget) / df_merged.production_budget\n",
    "df_merged.describe()"
   ]
  },
  {
   "cell_type": "code",
   "execution_count": 47,
   "metadata": {
    "collapsed": false
   },
   "outputs": [
    {
     "name": "stdout",
     "output_type": "stream",
     "text": [
      "array([ 10518.,   7353.,   3668., ...,   8147.,   5763.,   6192.])\n"
     ]
    }
   ],
   "source": [
    "from sklearn.ensemble import RandomForestClassifier\n",
    "\n",
    "forest = RandomForestClassifier(n_estimators=40)\n",
    "num_features = ['worldwide_gross',\n",
    "                'opening_per_theater',\n",
    "                'opening_weekend_take',\n",
    "                'production_budget',\n",
    "                'widest_release',\n",
    "                'metascore',\n",
    "                'num_critic_reviews',\n",
    "                'num_user_ratings',\n",
    "                'num_user_reviews',\n",
    "                'runtime_minutes']\n",
    "                     \n",
    "                     \n",
    "data = df_merged[num_features].dropna()\n",
    "X = data.iloc[:,1:].values\n",
    "Y = data.iloc[:,1].values\n",
    "pprint(Y)\n"
   ]
  },
  {
   "cell_type": "code",
   "execution_count": 13,
   "metadata": {
    "collapsed": false
   },
   "outputs": [
    {
     "ename": "ValueError",
     "evalue": "could not convert string to float: ",
     "output_type": "error",
     "traceback": [
      "\u001b[0;31m---------------------------------------------------------------------------\u001b[0m",
      "\u001b[0;31mValueError\u001b[0m                                Traceback (most recent call last)",
      "\u001b[0;32m<ipython-input-13-1577c39e6d45>\u001b[0m in \u001b[0;36m<module>\u001b[0;34m()\u001b[0m\n\u001b[1;32m      2\u001b[0m \u001b[0;34m\u001b[0m\u001b[0m\n\u001b[1;32m      3\u001b[0m \u001b[0mrf\u001b[0m \u001b[0;34m=\u001b[0m \u001b[0mRandomForestClassifier\u001b[0m\u001b[0;34m(\u001b[0m\u001b[0mn_estimators\u001b[0m\u001b[0;34m=\u001b[0m\u001b[0;36m10\u001b[0m\u001b[0;34m)\u001b[0m\u001b[0;34m\u001b[0m\u001b[0m\n\u001b[0;32m----> 4\u001b[0;31m \u001b[0mrf\u001b[0m\u001b[0;34m.\u001b[0m\u001b[0mfit\u001b[0m\u001b[0;34m(\u001b[0m\u001b[0mtrain\u001b[0m\u001b[0;34m,\u001b[0m \u001b[0mtarget\u001b[0m\u001b[0;34m)\u001b[0m\u001b[0;34m\u001b[0m\u001b[0m\n\u001b[0m",
      "\u001b[0;32m/Users/odz197/anaconda/envs/py27/lib/python2.7/site-packages/sklearn/ensemble/forest.pyc\u001b[0m in \u001b[0;36mfit\u001b[0;34m(self, X, y, sample_weight)\u001b[0m\n\u001b[1;32m    210\u001b[0m         \"\"\"\n\u001b[1;32m    211\u001b[0m         \u001b[0;31m# Validate or convert input data\u001b[0m\u001b[0;34m\u001b[0m\u001b[0;34m\u001b[0m\u001b[0m\n\u001b[0;32m--> 212\u001b[0;31m         \u001b[0mX\u001b[0m \u001b[0;34m=\u001b[0m \u001b[0mcheck_array\u001b[0m\u001b[0;34m(\u001b[0m\u001b[0mX\u001b[0m\u001b[0;34m,\u001b[0m \u001b[0mdtype\u001b[0m\u001b[0;34m=\u001b[0m\u001b[0mDTYPE\u001b[0m\u001b[0;34m,\u001b[0m \u001b[0maccept_sparse\u001b[0m\u001b[0;34m=\u001b[0m\u001b[0;34m\"csc\"\u001b[0m\u001b[0;34m)\u001b[0m\u001b[0;34m\u001b[0m\u001b[0m\n\u001b[0m\u001b[1;32m    213\u001b[0m         \u001b[0;32mif\u001b[0m \u001b[0missparse\u001b[0m\u001b[0;34m(\u001b[0m\u001b[0mX\u001b[0m\u001b[0;34m)\u001b[0m\u001b[0;34m:\u001b[0m\u001b[0;34m\u001b[0m\u001b[0m\n\u001b[1;32m    214\u001b[0m             \u001b[0;31m# Pre-sort indices to avoid that each individual tree of the\u001b[0m\u001b[0;34m\u001b[0m\u001b[0;34m\u001b[0m\u001b[0m\n",
      "\u001b[0;32m/Users/odz197/anaconda/envs/py27/lib/python2.7/site-packages/sklearn/utils/validation.pyc\u001b[0m in \u001b[0;36mcheck_array\u001b[0;34m(array, accept_sparse, dtype, order, copy, force_all_finite, ensure_2d, allow_nd, ensure_min_samples, ensure_min_features, warn_on_dtype, estimator)\u001b[0m\n\u001b[1;32m    371\u001b[0m                                       force_all_finite)\n\u001b[1;32m    372\u001b[0m     \u001b[0;32melse\u001b[0m\u001b[0;34m:\u001b[0m\u001b[0;34m\u001b[0m\u001b[0m\n\u001b[0;32m--> 373\u001b[0;31m         \u001b[0marray\u001b[0m \u001b[0;34m=\u001b[0m \u001b[0mnp\u001b[0m\u001b[0;34m.\u001b[0m\u001b[0marray\u001b[0m\u001b[0;34m(\u001b[0m\u001b[0marray\u001b[0m\u001b[0;34m,\u001b[0m \u001b[0mdtype\u001b[0m\u001b[0;34m=\u001b[0m\u001b[0mdtype\u001b[0m\u001b[0;34m,\u001b[0m \u001b[0morder\u001b[0m\u001b[0;34m=\u001b[0m\u001b[0morder\u001b[0m\u001b[0;34m,\u001b[0m \u001b[0mcopy\u001b[0m\u001b[0;34m=\u001b[0m\u001b[0mcopy\u001b[0m\u001b[0;34m)\u001b[0m\u001b[0;34m\u001b[0m\u001b[0m\n\u001b[0m\u001b[1;32m    374\u001b[0m \u001b[0;34m\u001b[0m\u001b[0m\n\u001b[1;32m    375\u001b[0m         \u001b[0;32mif\u001b[0m \u001b[0mensure_2d\u001b[0m\u001b[0;34m:\u001b[0m\u001b[0;34m\u001b[0m\u001b[0m\n",
      "\u001b[0;31mValueError\u001b[0m: could not convert string to float: "
     ]
    }
   ],
   "source": [
    "from sklearn.ensemble import RandomForestClassifier\n",
    "\n",
    "rf = RandomForestClassifier(n_estimators=10)\n",
    "rf.fit(train, target)"
   ]
  },
  {
   "cell_type": "code",
   "execution_count": null,
   "metadata": {
    "collapsed": true
   },
   "outputs": [],
   "source": []
  },
  {
   "cell_type": "code",
   "execution_count": null,
   "metadata": {
    "collapsed": true
   },
   "outputs": [],
   "source": []
  }
 ],
 "metadata": {
  "kernelspec": {
   "display_name": "Python 2",
   "language": "python",
   "name": "python2"
  },
  "language_info": {
   "codemirror_mode": {
    "name": "ipython",
    "version": 2
   },
   "file_extension": ".py",
   "mimetype": "text/x-python",
   "name": "python",
   "nbconvert_exporter": "python",
   "pygments_lexer": "ipython2",
   "version": "2.7.11"
  },
  "widgets": {
   "state": {},
   "version": "1.1.2"
  }
 },
 "nbformat": 4,
 "nbformat_minor": 0
}
